{
 "cells": [
  {
   "cell_type": "markdown",
   "id": "50472f86",
   "metadata": {},
   "source": [
    "### 1. In the below elements which of them are values or an expression? eg:- values can be integer or string and expressions will be mathematical operators.\n",
    "- *\n",
    "- 'hello'\n",
    "- -87.8\n",
    "- -\n",
    "- /\n",
    "- +\n",
    "- 6"
   ]
  },
  {
   "cell_type": "markdown",
   "id": "ea8454eb",
   "metadata": {},
   "source": [
    "### Answer : \n",
    "#### Following are operators:\n",
    "         *,-,/,+\n",
    "#### Following are values:\n",
    "         'hello', -87.8, 6"
   ]
  },
  {
   "cell_type": "markdown",
   "id": "56477632",
   "metadata": {},
   "source": [
    "### 2. What is the difference between string and variable?"
   ]
  },
  {
   "cell_type": "markdown",
   "id": "b45daa2f",
   "metadata": {},
   "source": [
    "#### Answer : \n",
    "    - Variable is a name given to the memory location where the values is stored in the memory \n",
    "        Example numA = 23, numB = 23.5, strVal = 'Bhanu'\n",
    "        \n",
    "    - String represents a text value enclosed with in two double quotes or two single quotes. \n",
    "        Example \"Bhanu\", \"Bhanu0925\"\n",
    "        \n",
    "    eg. a = 'karthik'\n",
    "\n",
    "    a-> variable\n",
    "    'karthik' -> string"
   ]
  },
  {
   "cell_type": "markdown",
   "id": "6cce3f28",
   "metadata": {},
   "source": [
    "### 3. Describe three different data types."
   ]
  },
  {
   "cell_type": "markdown",
   "id": "7fe74deb",
   "metadata": {},
   "source": [
    "#### Answer :\n",
    "    int datatype: It holds positive, negative and zero without a decimal point\n",
    "    eg. a = 10\n",
    "    b = -12\n",
    "    c = 0\n",
    "\n",
    "    float datatype: It holds float values\n",
    "    Eg. a = 10.0\n",
    "    b = -12.145\n",
    "    c = 9.83\n",
    "\n",
    "    Boolean datatype: It holds 2 values(True or False)\n",
    "    Eg. a = True\n",
    "        b = False\n",
    "        True represent 1 and False represent 0\n",
    "\n",
    "    string datatype: It holds group of characters or sibgle character in single or double quotes. strings are immutable.\n",
    "    Eg. a = 'my name is Karthik'\n",
    "        b = \"Hello World\"\n",
    "\n",
    "    List datatype: It is an Heterogeneous datatype. It can hold numbers, folat values, Boolean, complex values, strings. List is mutable datatype(values can change)\n",
    "    Eg. a = [1,2.3,'hello',True,1+2j]\n",
    "\n",
    "    tuple datatype: It is similar to List datatype but it is Immutable datatype(can not modify data)\n",
    "    Eg. a = (1,2.3,'hello',True,1+2j)\n",
    "\n",
    "    set datatype: It is an unordered collection of heterogeneous data. It is mutable.\n",
    "    Eg. a = {1,2,4,8}\n",
    "\n",
    "    dict datatype: It is a key value datatype. It is a mutable datatype.\n",
    "    Eg. a = {'1': 'karthik',\n",
    "            age: 22\n",
    "            }"
   ]
  },
  {
   "cell_type": "code",
   "execution_count": 21,
   "id": "f9993b2b",
   "metadata": {},
   "outputs": [
    {
     "data": {
      "text/plain": [
       "int"
      ]
     },
     "execution_count": 21,
     "metadata": {},
     "output_type": "execute_result"
    }
   ],
   "source": [
    "k=10\n",
    "type(k)"
   ]
  },
  {
   "cell_type": "markdown",
   "id": "e587c18c",
   "metadata": {},
   "source": [
    "### 4. What is an expression made up of? What do all expressions do?"
   ]
  },
  {
   "cell_type": "markdown",
   "id": "f18bb4f1",
   "metadata": {},
   "source": [
    "#### Answer:\n",
    "    - An Expression is a combination of variables and operators. There expressions perform operation of variable based on \n",
    "    the operators and evaluates the values to a single variable."
   ]
  },
  {
   "cell_type": "code",
   "execution_count": 2,
   "id": "992ea6f6",
   "metadata": {},
   "outputs": [
    {
     "name": "stdout",
     "output_type": "stream",
     "text": [
      "c = 10 + 20\n",
      "c = 30\n"
     ]
    }
   ],
   "source": [
    "# variables \n",
    "a = 10\n",
    "b = 20\n",
    "\n",
    "# The expression - sum\n",
    "c = a + b\n",
    "    \n",
    "# Evalues and store the value in C\n",
    "print('c = {} + {}'.format(a,b))\n",
    "print('c =',c)"
   ]
  },
  {
   "cell_type": "markdown",
   "id": "2a90524e",
   "metadata": {},
   "source": [
    "### 5. This assignment statements, like spam = 10. What is the difference between an expression and a statement?"
   ]
  },
  {
   "cell_type": "markdown",
   "id": "44cc3062",
   "metadata": {},
   "source": [
    "#### Answer:\n",
    "    - The assignemnt statemets assign a value to the variable.\n",
    "    - This expressions spam = 10 assigns the value to a variable.\n",
    "    - value 10 in assigned to spam, and now spam will have value 10.\n",
    "    - But in expression a = C+B, the value of a depends on the value of C and B."
   ]
  },
  {
   "cell_type": "markdown",
   "id": "b2e54ff8",
   "metadata": {},
   "source": [
    "### 6. After running the following code, what does the variable bacon contain?\n",
    "    bacon = 22\n",
    "    bacon + 1"
   ]
  },
  {
   "cell_type": "code",
   "execution_count": 5,
   "id": "50229579",
   "metadata": {},
   "outputs": [
    {
     "name": "stdout",
     "output_type": "stream",
     "text": [
      "bacon: 22\n",
      "after storing in the variable: 23\n"
     ]
    }
   ],
   "source": [
    "bacon = 22\n",
    "bacon + 1\n",
    "    \n",
    "print('bacon:',bacon)\n",
    "#It still contain 22 only. if we are storing again in the variable bacon it will become 23\n",
    "bacon=bacon+1\n",
    "print('after storing in the variable:', bacon)"
   ]
  },
  {
   "cell_type": "markdown",
   "id": "33c8a6ff",
   "metadata": {},
   "source": [
    "### 7. What should the values of the following two terms be?\n",
    "    'spam' + 'spamspam'\n",
    "    'spam' * 3"
   ]
  },
  {
   "cell_type": "markdown",
   "id": "50a9d70f",
   "metadata": {},
   "source": [
    "#### Answer: Both outputs 'spamspamspam'`"
   ]
  },
  {
   "cell_type": "code",
   "execution_count": 30,
   "id": "639b47ab",
   "metadata": {},
   "outputs": [
    {
     "name": "stdout",
     "output_type": "stream",
     "text": [
      "spamspamspam\n",
      "spamspamspam\n"
     ]
    }
   ],
   "source": [
    "print('spam' + 'spamspam')\n",
    "print('spam' * 3)\n",
    "\n",
    "#it gives same result"
   ]
  },
  {
   "cell_type": "markdown",
   "id": "681fc3eb",
   "metadata": {},
   "source": [
    "### 8. Why is eggs a valid variable name while 100 is invalid?"
   ]
  },
  {
   "cell_type": "markdown",
   "id": "b1e5219e",
   "metadata": {},
   "source": [
    "#### Answer:\n",
    "    A variable name must start with a letter or the underscore character. A variable name cannot start with a number. A variable name can only contain alpha-numeric characters and underscores (A-z, 0-9, and _ )"
   ]
  },
  {
   "cell_type": "markdown",
   "id": "c0667c4d",
   "metadata": {},
   "source": [
    "### 9. What three functions can be used to get the integer, floating-point number, or string version of a value?"
   ]
  },
  {
   "cell_type": "markdown",
   "id": "6c1d23f9",
   "metadata": {},
   "source": [
    "#### Answer : \n",
    "    int() , float(), str()"
   ]
  },
  {
   "cell_type": "markdown",
   "id": "a0b23816",
   "metadata": {},
   "source": [
    "### 10. Why does this expression cause an error? How can you fix it?\n",
    "    'I have eaten ' + 99 + ' burritos.'"
   ]
  },
  {
   "cell_type": "code",
   "execution_count": 31,
   "id": "d456898a",
   "metadata": {},
   "outputs": [
    {
     "ename": "TypeError",
     "evalue": "can only concatenate str (not \"int\") to str",
     "output_type": "error",
     "traceback": [
      "\u001b[1;31m---------------------------------------------------------------------------\u001b[0m",
      "\u001b[1;31mTypeError\u001b[0m                                 Traceback (most recent call last)",
      "Input \u001b[1;32mIn [31]\u001b[0m, in \u001b[0;36m<cell line: 1>\u001b[1;34m()\u001b[0m\n\u001b[1;32m----> 1\u001b[0m \u001b[38;5;124;43m'\u001b[39;49m\u001b[38;5;124;43mI have eaten \u001b[39;49m\u001b[38;5;124;43m'\u001b[39;49m\u001b[43m \u001b[49m\u001b[38;5;241;43m+\u001b[39;49m\u001b[43m \u001b[49m\u001b[38;5;241;43m99\u001b[39;49m \u001b[38;5;241m+\u001b[39m \u001b[38;5;124m'\u001b[39m\u001b[38;5;124m burritos.\u001b[39m\u001b[38;5;124m'\u001b[39m\n",
      "\u001b[1;31mTypeError\u001b[0m: can only concatenate str (not \"int\") to str"
     ]
    }
   ],
   "source": [
    "'I have eaten ' + 99 + ' burritos.'"
   ]
  },
  {
   "cell_type": "code",
   "execution_count": 34,
   "id": "5b96a550",
   "metadata": {},
   "outputs": [
    {
     "data": {
      "text/plain": [
       "'I have eaten 99 burritos.'"
      ]
     },
     "execution_count": 34,
     "metadata": {},
     "output_type": "execute_result"
    }
   ],
   "source": [
    "'I have eaten ' +  str(99)  +' burritos.'"
   ]
  },
  {
   "cell_type": "code",
   "execution_count": null,
   "id": "65dae89d",
   "metadata": {},
   "outputs": [],
   "source": []
  }
 ],
 "metadata": {
  "kernelspec": {
   "display_name": "Python 3 (ipykernel)",
   "language": "python",
   "name": "python3"
  },
  "language_info": {
   "codemirror_mode": {
    "name": "ipython",
    "version": 3
   },
   "file_extension": ".py",
   "mimetype": "text/x-python",
   "name": "python",
   "nbconvert_exporter": "python",
   "pygments_lexer": "ipython3",
   "version": "3.9.12"
  }
 },
 "nbformat": 4,
 "nbformat_minor": 5
}
