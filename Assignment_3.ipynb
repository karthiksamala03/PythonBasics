{
 "cells": [
  {
   "cell_type": "markdown",
   "id": "35574989",
   "metadata": {},
   "source": [
    "### 1. Why are functions advantageous to have in your programs?\n",
    "#### Answer:\n",
    "     The advantages of using functions are:\n",
    "        Avoid repetition of codes. Reusability\n",
    "        Increases program readability and modularity\n",
    "        Divide a complex problem into simpler ones.\n",
    "        Reduces chances of error.\n",
    "        Modifying a program becomes easier by using function."
   ]
  },
  {
   "cell_type": "markdown",
   "id": "458a7be2",
   "metadata": {},
   "source": [
    "### 2. When does the code in a function execute: when the function is defined or when the function is called?\n",
    "        The code in a function executes when the function is called, not when the function is defined."
   ]
  },
  {
   "cell_type": "markdown",
   "id": "12076a2d",
   "metadata": {},
   "source": [
    "### 3. What statement creates a function?\n",
    "    The def functionName() createes a function\n",
    "    \n",
    "      def func():\n",
    "          pass"
   ]
  },
  {
   "cell_type": "markdown",
   "id": "d8e49085",
   "metadata": {},
   "source": [
    "### 4. What is the difference between a function and a function call?\n",
    "    A function : is a block of code that does a particular operation and returns a result. It usually accepts inputs as \n",
    "    parameters and returns a result. The parameters are not mandatory. \n",
    "    A Function call : is the code used to execute the code writen in the body of the function"
   ]
  },
  {
   "cell_type": "markdown",
   "id": "340a19a4",
   "metadata": {},
   "source": [
    "### 5. How many global scopes are there in a Python program? How many local scopes?\n",
    "    There's only one global Python scope per program execution. This scope remains in existence until the program terminates and all its names are forgotten.\n",
    "    a local scope is created whenever a function is called"
   ]
  },
  {
   "cell_type": "markdown",
   "id": "02e2cbfb",
   "metadata": {},
   "source": [
    "### 6. What happens to variables in a local scope when the function call returns?\n",
    "    When a function returns, the local scope is destroyed, and all the variables in it are forgotten. we will not be able to access the out side the function"
   ]
  },
  {
   "cell_type": "markdown",
   "id": "14e36835",
   "metadata": {},
   "source": [
    "### 7. What is the concept of a return value? Is it possible to have a return value in an expression?\n",
    "    A return value is the value that a function call evaluates to. A return value can be used as part of an expression, Like any value"
   ]
  },
  {
   "cell_type": "markdown",
   "id": "be8916c8",
   "metadata": {},
   "source": [
    "### 8. If a function does not have a return statement, what is the return value of a call to that function?\n",
    "    If there is no return statement for a function, its return value is None"
   ]
  },
  {
   "cell_type": "markdown",
   "id": "cda946bd",
   "metadata": {},
   "source": [
    "### 9. How do you make a function variable refer to the global variable?\n",
    "    By representing a variable by global keywaord in the body of a function \n",
    "    Example : global a"
   ]
  },
  {
   "cell_type": "markdown",
   "id": "9ae173bf",
   "metadata": {},
   "source": [
    "### 10. What is the data type of None?\n",
    "    The data type of none is NoneType"
   ]
  },
  {
   "cell_type": "markdown",
   "id": "9d3d4d78",
   "metadata": {},
   "source": [
    "### 11. What does the sentence import areallyourpetsnamederic do?\n",
    "    No such module exist in python. It throughs ModuleNotFoundError exception"
   ]
  },
  {
   "cell_type": "code",
   "execution_count": 1,
   "id": "dc0bc3a4",
   "metadata": {},
   "outputs": [
    {
     "ename": "ModuleNotFoundError",
     "evalue": "No module named 'areallyourpetsnamederic'",
     "output_type": "error",
     "traceback": [
      "\u001b[1;31m---------------------------------------------------------------------------\u001b[0m",
      "\u001b[1;31mModuleNotFoundError\u001b[0m                       Traceback (most recent call last)",
      "Input \u001b[1;32mIn [1]\u001b[0m, in \u001b[0;36m<cell line: 1>\u001b[1;34m()\u001b[0m\n\u001b[1;32m----> 1\u001b[0m \u001b[38;5;28;01mimport\u001b[39;00m \u001b[38;5;21;01mareallyourpetsnamederic\u001b[39;00m\n",
      "\u001b[1;31mModuleNotFoundError\u001b[0m: No module named 'areallyourpetsnamederic'"
     ]
    }
   ],
   "source": [
    "import areallyourpetsnamederic"
   ]
  },
  {
   "cell_type": "markdown",
   "id": "d9769062",
   "metadata": {},
   "source": [
    "### 12. If you had a bacon() feature in a spam module, what would you call it after importing spam?\n",
    "    This function can be called with spam.bacon(). like below\n",
    "    import spam\n",
    "    spam.bacon()"
   ]
  },
  {
   "cell_type": "markdown",
   "id": "d2322760",
   "metadata": {},
   "source": [
    "### 13. What can you do to save a programme from crashing if it encounters an error?\n",
    "    we can write lines of code in try block. This will not crash the programme. And in except block we can catch the \n",
    "    exception"
   ]
  },
  {
   "cell_type": "markdown",
   "id": "c5f7ca7e",
   "metadata": {},
   "source": [
    "### 14. What is the purpose of the try clause? What is the purpose of the except clause?\n",
    "    Try : The code that could potentially cause an error goes in the try clause.\n",
    "    except : The code that executes if an error happens goes in the except clause, like print statments about exceptions,\n",
    "    loggin statements."
   ]
  },
  {
   "cell_type": "code",
   "execution_count": null,
   "id": "6fc353e0",
   "metadata": {},
   "outputs": [],
   "source": []
  }
 ],
 "metadata": {
  "kernelspec": {
   "display_name": "Python 3 (ipykernel)",
   "language": "python",
   "name": "python3"
  },
  "language_info": {
   "codemirror_mode": {
    "name": "ipython",
    "version": 3
   },
   "file_extension": ".py",
   "mimetype": "text/x-python",
   "name": "python",
   "nbconvert_exporter": "python",
   "pygments_lexer": "ipython3",
   "version": "3.9.12"
  }
 },
 "nbformat": 4,
 "nbformat_minor": 5
}
