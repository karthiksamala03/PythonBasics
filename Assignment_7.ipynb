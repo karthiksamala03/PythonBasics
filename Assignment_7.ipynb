{
 "cells": [
  {
   "cell_type": "markdown",
   "id": "2a7ba648",
   "metadata": {},
   "source": [
    "### 1. What is the name of the feature responsible for generating Regex objects?\n",
    "    import re\n",
    "    re.compile(pattern) - > The re.compile() function returns Regex objects."
   ]
  },
  {
   "cell_type": "code",
   "execution_count": 1,
   "id": "dd99b14b",
   "metadata": {},
   "outputs": [
    {
     "data": {
      "text/plain": [
       "<function re.compile(pattern, flags=0)>"
      ]
     },
     "execution_count": 1,
     "metadata": {},
     "output_type": "execute_result"
    }
   ],
   "source": [
    "import re\n",
    "re.compile"
   ]
  },
  {
   "cell_type": "markdown",
   "id": "c7a5e28e",
   "metadata": {},
   "source": [
    "## 2. Why do raw strings often appear in Regex objects?\n",
    "    Raw strings are used so that backslashes do not have to be escaped"
   ]
  },
  {
   "cell_type": "code",
   "execution_count": 3,
   "id": "ac30a951",
   "metadata": {},
   "outputs": [
    {
     "data": {
      "text/plain": [
       "re.compile(r'kar\\thik', re.UNICODE)"
      ]
     },
     "execution_count": 3,
     "metadata": {},
     "output_type": "execute_result"
    }
   ],
   "source": [
    "re.compile('kar\\thik')"
   ]
  },
  {
   "cell_type": "markdown",
   "id": "b9b61f6c",
   "metadata": {},
   "source": [
    "## 3. What is the return value of the search() method?\n",
    "    The search() method searches a string for a specified value, and returns the position of the match.\n",
    "    The search value can be string or a regular expression.\n",
    "    This method returns -1 if no match is found"
   ]
  },
  {
   "cell_type": "markdown",
   "id": "8f40788e",
   "metadata": {},
   "source": [
    "### 4. From a Match item, how do you get the actual strings that match the pattern?\n",
    "        group() method returns the string of matched pattern"
   ]
  },
  {
   "cell_type": "code",
   "execution_count": 9,
   "id": "09912774",
   "metadata": {},
   "outputs": [
    {
     "name": "stdout",
     "output_type": "stream",
     "text": [
      "Phone number found: 415-555-4242\n"
     ]
    }
   ],
   "source": [
    "phoneNumRegex = re.compile(r'\\d\\d\\d-\\d\\d\\d-\\d\\d\\d\\d')\n",
    "mo = phoneNumRegex.search('My number is 415-555-4242 and 111-525-4231')\n",
    "print('Phone number found: ' + mo.group())"
   ]
  },
  {
   "cell_type": "markdown",
   "id": "f1bbd873",
   "metadata": {},
   "source": [
    "### 5. In the regex which created from the r'(\\d\\d\\d)-(\\d\\d\\d-\\d\\d\\d\\d)', what does group zero cover? Group 2? Group 1?\n",
    "    regex: (\\d\\d\\d)-(\\d\\d\\d-\\d\\d\\d\\d)\n",
    "    The first set of parentheses in a regex string will be group 1. \n",
    "    The second set will be group 2. \n",
    "    By passing the integer 1 or 2 to the group() match object method, you can grab different parts of the matched text. \n",
    "    Passing 0 or nothing to the group() method will return the entire matched text"
   ]
  },
  {
   "cell_type": "code",
   "execution_count": 15,
   "id": "2d8342f8",
   "metadata": {},
   "outputs": [
    {
     "data": {
      "text/plain": [
       "'415-555-4242'"
      ]
     },
     "execution_count": 15,
     "metadata": {},
     "output_type": "execute_result"
    }
   ],
   "source": [
    "phoneNumRegex = re.compile(r'(\\d\\d\\d)-(\\d\\d\\d-\\d\\d\\d\\d)')\n",
    "mo = phoneNumRegex.search('My number is 415-555-4242.')\n",
    "mo.group(0)"
   ]
  },
  {
   "cell_type": "code",
   "execution_count": 16,
   "id": "08c48722",
   "metadata": {},
   "outputs": [
    {
     "data": {
      "text/plain": [
       "'415'"
      ]
     },
     "execution_count": 16,
     "metadata": {},
     "output_type": "execute_result"
    }
   ],
   "source": [
    "mo.group(1)"
   ]
  },
  {
   "cell_type": "code",
   "execution_count": 17,
   "id": "4386147f",
   "metadata": {},
   "outputs": [
    {
     "data": {
      "text/plain": [
       "'555-4242'"
      ]
     },
     "execution_count": 17,
     "metadata": {},
     "output_type": "execute_result"
    }
   ],
   "source": [
    "mo.group(2)"
   ]
  },
  {
   "cell_type": "markdown",
   "id": "4a569bec",
   "metadata": {},
   "source": [
    "### 6. In standard expression syntax, parentheses and intervals have distinct meanings. How can you tell a regex that you want it to fit real parentheses and periods?\n",
    "    Periods and parentheses can be escaped with a backslash: \\[, \\], \\(, and \\)."
   ]
  },
  {
   "cell_type": "markdown",
   "id": "cddd8fd7",
   "metadata": {},
   "source": [
    "### 7. The findall() method returns a string list or a list of string tuples. What causes it to return one of the two options?\n",
    "\n",
    "    If the regex has no groups, a list of strings is returned. If the regex has groups, a list of tuples of strings is \n",
    "    returned.\n"
   ]
  },
  {
   "cell_type": "markdown",
   "id": "b658ccc1",
   "metadata": {},
   "source": [
    "### 8. In standard expressions, what does the | character mean?\n",
    "    The | character signifies matching “either, or” between two groups"
   ]
  },
  {
   "cell_type": "code",
   "execution_count": 21,
   "id": "4c129e0c",
   "metadata": {},
   "outputs": [
    {
     "name": "stdout",
     "output_type": "stream",
     "text": [
      "['The', 'the', 'was', 'the']\n"
     ]
    }
   ],
   "source": [
    "pattern = r'the|was' ## check the string if it contains either \"the\" or \"was\"\n",
    "text=\"The score of thee player was 82 runs of 72 balls their in 121 overs match\"\n",
    "print(re.findall(pattern,text,re.IGNORECASE))"
   ]
  },
  {
   "cell_type": "markdown",
   "id": "e354d53c",
   "metadata": {},
   "source": [
    "### 9. In regular expressions, what does the ? character stand for?\n",
    "\n",
    "    The ? character can either mean “match zero or one of the preceding group”.\n",
    "    \n",
    "    Sometimes there is a pattern that you want to match only optionally. That is, the regex should find a match regardless\n",
    "    of whether that bit of text is there. The ? character flags the group that precedes it as an optional part of the \n",
    "    pattern."
   ]
  },
  {
   "cell_type": "code",
   "execution_count": 22,
   "id": "a577a387",
   "metadata": {},
   "outputs": [
    {
     "name": "stdout",
     "output_type": "stream",
     "text": [
      "['The']\n"
     ]
    }
   ],
   "source": [
    "## repition\n",
    "pattern = r'the?\\b' ## zero or one occurence of \"e\" followed by th\n",
    "text=\"The score of thee player was 82 runs of 72 balls their in 121 overs match\"\n",
    "print(re.findall(pattern,text,re.IGNORECASE))"
   ]
  },
  {
   "cell_type": "code",
   "execution_count": 23,
   "id": "78b964f1",
   "metadata": {},
   "outputs": [
    {
     "data": {
      "text/plain": [
       "'Batman'"
      ]
     },
     "execution_count": 23,
     "metadata": {},
     "output_type": "execute_result"
    }
   ],
   "source": [
    "batRegex = re.compile(r'Bat(wo)?man')\n",
    "mo1 = batRegex.search('The Adventures of Batman')\n",
    "mo1.group()"
   ]
  },
  {
   "cell_type": "code",
   "execution_count": 24,
   "id": "8fefabd4",
   "metadata": {},
   "outputs": [
    {
     "data": {
      "text/plain": [
       "'Batwoman'"
      ]
     },
     "execution_count": 24,
     "metadata": {},
     "output_type": "execute_result"
    }
   ],
   "source": [
    "mo2 = batRegex.search('The Adventures of Batwoman')\n",
    "mo2.group()"
   ]
  },
  {
   "cell_type": "markdown",
   "id": "bc6088b8",
   "metadata": {},
   "source": [
    "### 10.In regular expressions, what is the difference between the + and * characters?\n",
    "\n",
    "    The + matches one or more occurance of pattern. The * matches zero or more occurance of pattern"
   ]
  },
  {
   "cell_type": "markdown",
   "id": "bd5fd746",
   "metadata": {},
   "source": [
    "### 11. What is the difference between {4} and {4,5} in regular expression?\n",
    "    The {4} matches exactly three instances of the preceding group using \\b. \n",
    "    The {4,5} matches between three and five instances using \\b. "
   ]
  },
  {
   "cell_type": "code",
   "execution_count": 35,
   "id": "6db126a7",
   "metadata": {},
   "outputs": [
    {
     "name": "stdout",
     "output_type": "stream",
     "text": [
      "['5412']\n",
      "['1234', '5412']\n"
     ]
    }
   ],
   "source": [
    "pattern = r'\\b\\d{4}\\b'\n",
    "pattern1 = r'\\d{4}'\n",
    "text=\"The movie 12345 in place 5412 was 12\"\n",
    "print(re.findall(pattern,text))\n",
    "print(re.findall(pattern1,text))"
   ]
  },
  {
   "cell_type": "code",
   "execution_count": 37,
   "id": "9eb30eb2",
   "metadata": {},
   "outputs": [
    {
     "name": "stdout",
     "output_type": "stream",
     "text": [
      "['5412']\n",
      "['12345', '5412']\n"
     ]
    }
   ],
   "source": [
    "pattern = r'\\b\\d{4,5}\\b'\n",
    "pattern1 = r'\\d{4,5}'\n",
    "text=\"The movie 123456 in place 5412 was 12\"\n",
    "print(re.findall(pattern,text))\n",
    "print(re.findall(pattern1,text))"
   ]
  },
  {
   "cell_type": "markdown",
   "id": "6cecfec4",
   "metadata": {},
   "source": [
    "### 12. What do you mean by the \\d, \\w, and \\s shorthand character classes signify in regular expressions?\n",
    "    The \\d, stands for single digit, Any numeric digit from 0 to 9\n",
    "    \\w, stands for single word, Any letter, numeric digit, or the underscore character. (Think of this as matching “word” \n",
    "    characters.)\n",
    "    \\s stands for single space character, Any space, tab, or newline character. (Think of this as matching “space” \n",
    "    characters.)"
   ]
  },
  {
   "cell_type": "code",
   "execution_count": 39,
   "id": "e17924ce",
   "metadata": {},
   "outputs": [
    {
     "name": "stdout",
     "output_type": "stream",
     "text": [
      "['82', '72']\n",
      "<re.Match object; span=(28, 30), match='82'>\n"
     ]
    }
   ],
   "source": [
    "import re\n",
    "pattern = r'\\d{2}' ## give me all two digit numbers\n",
    "text=\"The score of the player was 82 runs of 72 balls with 7 sixes\"\n",
    "print(re.findall(pattern,text))\n",
    "print(re.search(pattern,text))"
   ]
  },
  {
   "cell_type": "code",
   "execution_count": 40,
   "id": "d1472cbc",
   "metadata": {},
   "outputs": [
    {
     "name": "stdout",
     "output_type": "stream",
     "text": [
      "[' ', ' ', ' ', ' ', ' ', ' ', ' ', ' ', ' ', ' ', ' ', ' ', ' ', '\\n']\n"
     ]
    }
   ],
   "source": [
    "pattern = r'\\s' ## giving whitespaces and Tab and newline\n",
    "text=\"The score of the player was 82 runs of 72 balls in 121 overs\\nmatch\"\n",
    "print(re.findall(pattern,text))"
   ]
  },
  {
   "cell_type": "code",
   "execution_count": 41,
   "id": "93b6fd38",
   "metadata": {},
   "outputs": [
    {
     "name": "stdout",
     "output_type": "stream",
     "text": [
      "['T', 'h', 'e', 's', 'c', 'o', 'r', 'e', 'o', 'f', 't', 'h', 'e', 'p', 'l', 'a', 'y', 'e', 'r', 'w', 'a', 's', '8', '2', 'r', 'u', 'n', 's', 'o', 'f', '7', '2', 'b', 'a', 'l', 'l', 's', 'i', 'n', '1', '2', '1', 'o', 'v', 'e', 'r', 's', 'm', 'a', 't', 'c', 'h']\n"
     ]
    }
   ],
   "source": [
    "pattern = r'\\w' ## check any character without whitespaces\n",
    "text=\"The score of the player was 82 runs of 72 balls in 121 overs match\"\n",
    "print(re.findall(pattern,text))"
   ]
  },
  {
   "cell_type": "markdown",
   "id": "57f4c835",
   "metadata": {},
   "source": [
    "### 13. What do means by \\D, \\W, and \\S shorthand character classes signify in regular expressions?\n",
    "    \\D - > Any character that is not a numeric digit from 0 to 9.\n",
    "    \\W - > Any character that is not a letter, numeric digit, or the underscore character.\n",
    "    \\S - > Any character that is not a space, tab, or newline."
   ]
  },
  {
   "cell_type": "markdown",
   "id": "5ac8349d",
   "metadata": {},
   "source": [
    "### 14. What is the difference between .*? and .*\n",
    "\n",
    "    .* - > The dot-star uses greedy mode: It will always try to match as much text as possible.\n",
    "    .*? - > To match any and all text in a non-greedy fashion, use the dot, star, and question mark (.*?). Like with braces, \n",
    "    the question mark tells Python to match in a non-greedy way.\n"
   ]
  },
  {
   "cell_type": "code",
   "execution_count": 43,
   "id": "71be12fe",
   "metadata": {},
   "outputs": [
    {
     "data": {
      "text/plain": [
       "'<To serve man> for dinner.>'"
      ]
     },
     "execution_count": 43,
     "metadata": {},
     "output_type": "execute_result"
    }
   ],
   "source": [
    "greedyRegex = re.compile(r'<.*>')\n",
    "mo = greedyRegex.search('<To serve man> for dinner.>')\n",
    "mo.group()"
   ]
  },
  {
   "cell_type": "code",
   "execution_count": 44,
   "id": "51364648",
   "metadata": {},
   "outputs": [
    {
     "data": {
      "text/plain": [
       "'<To serve man>'"
      ]
     },
     "execution_count": 44,
     "metadata": {},
     "output_type": "execute_result"
    }
   ],
   "source": [
    "nongreedyRegex = re.compile(r'<.*?>')\n",
    "mo = nongreedyRegex.search('<To serve man> for dinner.>')\n",
    "mo.group()"
   ]
  },
  {
   "cell_type": "markdown",
   "id": "28c5e61d",
   "metadata": {},
   "source": [
    "### 15. What is the syntax for matching both numbers and lowercase letters with a character class?\n",
    "    Either [0-9a-z] or [a-z0-9]"
   ]
  },
  {
   "cell_type": "code",
   "execution_count": 49,
   "id": "f8bc1a1a",
   "metadata": {},
   "outputs": [
    {
     "name": "stdout",
     "output_type": "stream",
     "text": [
      "['c', 'a', 'a', 'b', 'a', 'a', 'c']\n"
     ]
    }
   ],
   "source": [
    "pattern = r'[a-c]' ## check all characters between a to c\n",
    "text=\"The score of the player was 82 runs of 72 balls in 121 overs match\"\n",
    "print(re.findall(pattern,text))"
   ]
  },
  {
   "cell_type": "code",
   "execution_count": 50,
   "id": "fe1ea1e0",
   "metadata": {},
   "outputs": [
    {
     "name": "stdout",
     "output_type": "stream",
     "text": [
      "['2', '2', '2']\n"
     ]
    }
   ],
   "source": [
    "pattern = r'[1-5]' ## check all digits between 1 to 5\n",
    "text=\"The score of the player was 82 runs of 72 balls in T20 match\"\n",
    "print(re.findall(pattern,text))"
   ]
  },
  {
   "cell_type": "code",
   "execution_count": 51,
   "id": "d28c2236",
   "metadata": {},
   "outputs": [
    {
     "name": "stdout",
     "output_type": "stream",
     "text": [
      "['t2']\n"
     ]
    }
   ],
   "source": [
    "pattern = r'[a-z][1-5]' ## check combination of character and digit\n",
    "text=\"The score of the player was 82 runs of 72 balls in t20 match\"\n",
    "print(re.findall(pattern,text))"
   ]
  },
  {
   "cell_type": "markdown",
   "id": "81f9efac",
   "metadata": {},
   "source": [
    "### 16. What is the procedure for making a normal expression in regax case insensitive?\n",
    "    using re.IGNORECASE will make the matching case insensitive"
   ]
  },
  {
   "cell_type": "code",
   "execution_count": 54,
   "id": "699d7f6b",
   "metadata": {},
   "outputs": [
    {
     "name": "stdout",
     "output_type": "stream",
     "text": [
      "['The', 'th', 'the']\n"
     ]
    }
   ],
   "source": [
    "pattern = r'the*' ## zero or more occurence of \"e\" followed by th\n",
    "text=\"The score of th player was 82 runs of 72 balls their in 121 overs match\"\n",
    "print(re.findall(pattern,text,re.IGNORECASE))"
   ]
  },
  {
   "cell_type": "code",
   "execution_count": 55,
   "id": "7c597545",
   "metadata": {},
   "outputs": [
    {
     "data": {
      "text/plain": [
       "'Machine'"
      ]
     },
     "execution_count": 55,
     "metadata": {},
     "output_type": "execute_result"
    }
   ],
   "source": [
    "casesen = re.compile(r'machine', re.I)\n",
    "casesen.search('Machine learning is part of data science').group()"
   ]
  },
  {
   "cell_type": "code",
   "execution_count": 56,
   "id": "bdd0e752",
   "metadata": {},
   "outputs": [
    {
     "data": {
      "text/plain": [
       "'MACHINE'"
      ]
     },
     "execution_count": 56,
     "metadata": {},
     "output_type": "execute_result"
    }
   ],
   "source": [
    "casesen.search('MACHINE is learning.').group()"
   ]
  },
  {
   "cell_type": "markdown",
   "id": "6eefe0c9",
   "metadata": {},
   "source": [
    "### 17. What does the . character normally match? What does it match if re.DOTALL is passed as 2nd argument in re.compile()?\n",
    "    The . character normally matches any character except the newline character. \n",
    "    If re.DOTALL is passed as the second argument to re.compile(), then the dot will also match newline characters."
   ]
  },
  {
   "cell_type": "markdown",
   "id": "397ef174",
   "metadata": {},
   "source": [
    "### 18. If numRegex = re.compile(r'\\d+'), what will numRegex.sub('X', '11 drummers, 10 pipers, five rings, 4 hen') return?"
   ]
  },
  {
   "cell_type": "code",
   "execution_count": 57,
   "id": "bca29b19",
   "metadata": {},
   "outputs": [
    {
     "data": {
      "text/plain": [
       "'X drummers, X pipers, five rings, X hen'"
      ]
     },
     "execution_count": 57,
     "metadata": {},
     "output_type": "execute_result"
    }
   ],
   "source": [
    "numRegex = re.compile(r'\\d+')\n",
    "mo = numRegex.sub('X', '11 drummers, 10 pipers, five rings, 4 hen')\n",
    "mo"
   ]
  },
  {
   "cell_type": "markdown",
   "id": "584163a8",
   "metadata": {},
   "source": [
    "### 19. What does passing re.VERBOSE as the 2nd argument to re.compile() allow to do?\n",
    "    The re.VERBOSE argument allows you to add whitespace and comments to the string passed to re.compile()"
   ]
  },
  {
   "cell_type": "markdown",
   "id": "e065d181",
   "metadata": {},
   "source": [
    "### 20. How would you write a regex that match a number with comma for every three digits? It must match the given following:\n",
    "    '42'\n",
    "    '1,234'\n",
    "    '6,368,745'\n",
    "    \n",
    "     but not the following:\n",
    "\n",
    "    '12,34,567' (which has only two digits between the commas)\n",
    "    '1234' (which lacks commas)"
   ]
  },
  {
   "cell_type": "code",
   "execution_count": 71,
   "id": "8217b4e7",
   "metadata": {},
   "outputs": [
    {
     "data": {
      "text/plain": [
       "'42'"
      ]
     },
     "execution_count": 71,
     "metadata": {},
     "output_type": "execute_result"
    }
   ],
   "source": [
    "reg1 = re.compile(r'^\\d{1,3}(,\\d{3})*$')\n",
    "mo1 = reg1.search('42')\n",
    "mo1.group()"
   ]
  },
  {
   "cell_type": "code",
   "execution_count": 72,
   "id": "c919a1e8",
   "metadata": {},
   "outputs": [
    {
     "data": {
      "text/plain": [
       "'1,234'"
      ]
     },
     "execution_count": 72,
     "metadata": {},
     "output_type": "execute_result"
    }
   ],
   "source": [
    "mo2 = reg1.search('1,234')\n",
    "mo2.group()"
   ]
  },
  {
   "cell_type": "code",
   "execution_count": 73,
   "id": "7475eb59",
   "metadata": {},
   "outputs": [
    {
     "data": {
      "text/plain": [
       "'6,368,745'"
      ]
     },
     "execution_count": 73,
     "metadata": {},
     "output_type": "execute_result"
    }
   ],
   "source": [
    "mo3 = reg1.search('6,368,745')\n",
    "mo3.group()"
   ]
  },
  {
   "cell_type": "code",
   "execution_count": 75,
   "id": "6b80dcfd",
   "metadata": {},
   "outputs": [
    {
     "ename": "AttributeError",
     "evalue": "'NoneType' object has no attribute 'group'",
     "output_type": "error",
     "traceback": [
      "\u001b[1;31m---------------------------------------------------------------------------\u001b[0m",
      "\u001b[1;31mAttributeError\u001b[0m                            Traceback (most recent call last)",
      "Input \u001b[1;32mIn [75]\u001b[0m, in \u001b[0;36m<cell line: 2>\u001b[1;34m()\u001b[0m\n\u001b[0;32m      1\u001b[0m mo4 \u001b[38;5;241m=\u001b[39m reg1\u001b[38;5;241m.\u001b[39msearch(\u001b[38;5;124m'\u001b[39m\u001b[38;5;124m12,34,567\u001b[39m\u001b[38;5;124m'\u001b[39m)\n\u001b[1;32m----> 2\u001b[0m \u001b[43mmo4\u001b[49m\u001b[38;5;241;43m.\u001b[39;49m\u001b[43mgroup\u001b[49m()\n",
      "\u001b[1;31mAttributeError\u001b[0m: 'NoneType' object has no attribute 'group'"
     ]
    }
   ],
   "source": [
    "mo4 = reg1.search('12,34,567')\n",
    "mo4.group()"
   ]
  },
  {
   "cell_type": "markdown",
   "id": "6532208c",
   "metadata": {},
   "source": [
    "### 21. How would you write a regex that matches the full name of someone whose last name is Watanabe? You can assume that the first name that comes before it will always be one word that begins with a capital letter. The regex must match the following:\n",
    "    'Haruto Watanabe'\n",
    "    'Alice Watanabe'\n",
    "    'RoboCop Watanabe'\n",
    "    \n",
    "    but not the following:\n",
    "    \n",
    "    'haruto Watanabe' (where the first name is not capitalized)\n",
    "    'Mr. Watanabe' (where the preceding word has a nonletter character)\n",
    "    'Watanabe' (which has no first name)\n",
    "    'Haruto watanabe' (where Watanabe is not capitalized)\n"
   ]
  },
  {
   "cell_type": "code",
   "execution_count": 78,
   "id": "7d637b81",
   "metadata": {},
   "outputs": [
    {
     "data": {
      "text/plain": [
       "'Haruto Watanabe'"
      ]
     },
     "execution_count": 78,
     "metadata": {},
     "output_type": "execute_result"
    }
   ],
   "source": [
    "reg1 = re.compile(r'[A-Z][a-z]*\\sWatanabe')\n",
    "mo1 = reg1.search('Haruto Watanabe')\n",
    "mo1.group()"
   ]
  },
  {
   "cell_type": "code",
   "execution_count": 79,
   "id": "96cf23e2",
   "metadata": {},
   "outputs": [
    {
     "data": {
      "text/plain": [
       "'Alice Watanabe'"
      ]
     },
     "execution_count": 79,
     "metadata": {},
     "output_type": "execute_result"
    }
   ],
   "source": [
    "mo1 = reg1.search('Alice Watanabe')\n",
    "mo1.group()"
   ]
  },
  {
   "cell_type": "code",
   "execution_count": 80,
   "id": "4a3246f0",
   "metadata": {},
   "outputs": [
    {
     "data": {
      "text/plain": [
       "'Cop Watanabe'"
      ]
     },
     "execution_count": 80,
     "metadata": {},
     "output_type": "execute_result"
    }
   ],
   "source": [
    "mo1 = reg1.search('RoboCop Watanabe')\n",
    "mo1.group()"
   ]
  },
  {
   "cell_type": "code",
   "execution_count": 81,
   "id": "5580e60c",
   "metadata": {},
   "outputs": [
    {
     "ename": "AttributeError",
     "evalue": "'NoneType' object has no attribute 'group'",
     "output_type": "error",
     "traceback": [
      "\u001b[1;31m---------------------------------------------------------------------------\u001b[0m",
      "\u001b[1;31mAttributeError\u001b[0m                            Traceback (most recent call last)",
      "Input \u001b[1;32mIn [81]\u001b[0m, in \u001b[0;36m<cell line: 2>\u001b[1;34m()\u001b[0m\n\u001b[0;32m      1\u001b[0m mo1 \u001b[38;5;241m=\u001b[39m reg1\u001b[38;5;241m.\u001b[39msearch(\u001b[38;5;124m'\u001b[39m\u001b[38;5;124mHaruto watanabe\u001b[39m\u001b[38;5;124m'\u001b[39m)\n\u001b[1;32m----> 2\u001b[0m \u001b[43mmo1\u001b[49m\u001b[38;5;241;43m.\u001b[39;49m\u001b[43mgroup\u001b[49m()\n",
      "\u001b[1;31mAttributeError\u001b[0m: 'NoneType' object has no attribute 'group'"
     ]
    }
   ],
   "source": [
    "mo1 = reg1.search('Haruto watanabe')\n",
    "mo1.group()"
   ]
  },
  {
   "cell_type": "markdown",
   "id": "3b5d8081",
   "metadata": {},
   "source": [
    "### 22. How would you write a regex that matches a sentence where the first word is either Alice, Bob,or Carol; the second word is either eats, pets, or throws; the third word is apples, cats, or baseballs; and the sentence ends with a period? This regex should be case-insensitive. It must match the following:\n",
    "\n",
    "    'Alice eats apples.'\n",
    "    'Bob pets cats.'\n",
    "    'Carol throws baseballs.'\n",
    "    'Alice throws Apples.'\n",
    "    'BOB EATS CATS.'\n",
    "\n",
    "    but not the following:\n",
    "\n",
    "    'RoboCop eats apples.'\n",
    "    'ALICE THROWS FOOTBALLS.'\n",
    "    'Carol eats 7 cats.'"
   ]
  },
  {
   "cell_type": "code",
   "execution_count": 91,
   "id": "70de739b",
   "metadata": {},
   "outputs": [
    {
     "data": {
      "text/plain": [
       "'Alice eats apples.'"
      ]
     },
     "execution_count": 91,
     "metadata": {},
     "output_type": "execute_result"
    }
   ],
   "source": [
    "reg1 = re.compile(r\"(Alice|Bob|Carol)\\s(eats|pets|throws)\\s(apples|cats|baseballs)\\.\",re.I)\n",
    "mo1 = reg1.search('Alice eats apples.')\n",
    "mo1.group()"
   ]
  },
  {
   "cell_type": "code",
   "execution_count": 94,
   "id": "d952fe67",
   "metadata": {},
   "outputs": [
    {
     "data": {
      "text/plain": [
       "'Bob pets cats.'"
      ]
     },
     "execution_count": 94,
     "metadata": {},
     "output_type": "execute_result"
    }
   ],
   "source": [
    "mo1 = reg1.search('Bob pets cats.')\n",
    "mo1.group()"
   ]
  },
  {
   "cell_type": "code",
   "execution_count": 95,
   "id": "093a3033",
   "metadata": {},
   "outputs": [
    {
     "data": {
      "text/plain": [
       "'Carol throws baseballs.'"
      ]
     },
     "execution_count": 95,
     "metadata": {},
     "output_type": "execute_result"
    }
   ],
   "source": [
    "mo1 = reg1.search('Carol throws baseballs.')\n",
    "mo1.group()"
   ]
  },
  {
   "cell_type": "code",
   "execution_count": 96,
   "id": "d52c994e",
   "metadata": {},
   "outputs": [
    {
     "data": {
      "text/plain": [
       "'Alice throws Apples.'"
      ]
     },
     "execution_count": 96,
     "metadata": {},
     "output_type": "execute_result"
    }
   ],
   "source": [
    "mo1 = reg1.search('Alice throws Apples.')\n",
    "mo1.group()"
   ]
  },
  {
   "cell_type": "code",
   "execution_count": 97,
   "id": "ef3c57cf",
   "metadata": {},
   "outputs": [
    {
     "data": {
      "text/plain": [
       "'BOB EATS CATS.'"
      ]
     },
     "execution_count": 97,
     "metadata": {},
     "output_type": "execute_result"
    }
   ],
   "source": [
    "mo1 = reg1.search('BOB EATS CATS.')\n",
    "mo1.group()"
   ]
  },
  {
   "cell_type": "code",
   "execution_count": 99,
   "id": "c57b7574",
   "metadata": {},
   "outputs": [
    {
     "ename": "AttributeError",
     "evalue": "'NoneType' object has no attribute 'group'",
     "output_type": "error",
     "traceback": [
      "\u001b[1;31m---------------------------------------------------------------------------\u001b[0m",
      "\u001b[1;31mAttributeError\u001b[0m                            Traceback (most recent call last)",
      "Input \u001b[1;32mIn [99]\u001b[0m, in \u001b[0;36m<cell line: 2>\u001b[1;34m()\u001b[0m\n\u001b[0;32m      1\u001b[0m mo1 \u001b[38;5;241m=\u001b[39m reg1\u001b[38;5;241m.\u001b[39msearch(\u001b[38;5;124m'\u001b[39m\u001b[38;5;124mRoboCop eats apples.\u001b[39m\u001b[38;5;124m'\u001b[39m)\n\u001b[1;32m----> 2\u001b[0m \u001b[43mmo1\u001b[49m\u001b[38;5;241;43m.\u001b[39;49m\u001b[43mgroup\u001b[49m()\n",
      "\u001b[1;31mAttributeError\u001b[0m: 'NoneType' object has no attribute 'group'"
     ]
    }
   ],
   "source": [
    "mo1 = reg1.search('RoboCop eats apples.')\n",
    "mo1.group()"
   ]
  },
  {
   "cell_type": "code",
   "execution_count": 100,
   "id": "50145d4f",
   "metadata": {},
   "outputs": [
    {
     "ename": "AttributeError",
     "evalue": "'NoneType' object has no attribute 'group'",
     "output_type": "error",
     "traceback": [
      "\u001b[1;31m---------------------------------------------------------------------------\u001b[0m",
      "\u001b[1;31mAttributeError\u001b[0m                            Traceback (most recent call last)",
      "Input \u001b[1;32mIn [100]\u001b[0m, in \u001b[0;36m<cell line: 2>\u001b[1;34m()\u001b[0m\n\u001b[0;32m      1\u001b[0m mo1 \u001b[38;5;241m=\u001b[39m reg1\u001b[38;5;241m.\u001b[39msearch(\u001b[38;5;124m'\u001b[39m\u001b[38;5;124mALICE THROWS FOOTBALLS.\u001b[39m\u001b[38;5;124m'\u001b[39m)\n\u001b[1;32m----> 2\u001b[0m \u001b[43mmo1\u001b[49m\u001b[38;5;241;43m.\u001b[39;49m\u001b[43mgroup\u001b[49m()\n",
      "\u001b[1;31mAttributeError\u001b[0m: 'NoneType' object has no attribute 'group'"
     ]
    }
   ],
   "source": [
    "mo1 = reg1.search('ALICE THROWS FOOTBALLS.')\n",
    "mo1.group()"
   ]
  },
  {
   "cell_type": "code",
   "execution_count": 101,
   "id": "a7cb5bda",
   "metadata": {},
   "outputs": [
    {
     "ename": "AttributeError",
     "evalue": "'NoneType' object has no attribute 'group'",
     "output_type": "error",
     "traceback": [
      "\u001b[1;31m---------------------------------------------------------------------------\u001b[0m",
      "\u001b[1;31mAttributeError\u001b[0m                            Traceback (most recent call last)",
      "Input \u001b[1;32mIn [101]\u001b[0m, in \u001b[0;36m<cell line: 2>\u001b[1;34m()\u001b[0m\n\u001b[0;32m      1\u001b[0m mo1 \u001b[38;5;241m=\u001b[39m reg1\u001b[38;5;241m.\u001b[39msearch(\u001b[38;5;124m'\u001b[39m\u001b[38;5;124mCarol eats 7 cats.\u001b[39m\u001b[38;5;124m'\u001b[39m)\n\u001b[1;32m----> 2\u001b[0m \u001b[43mmo1\u001b[49m\u001b[38;5;241;43m.\u001b[39;49m\u001b[43mgroup\u001b[49m()\n",
      "\u001b[1;31mAttributeError\u001b[0m: 'NoneType' object has no attribute 'group'"
     ]
    }
   ],
   "source": [
    "mo1 = reg1.search('Carol eats 7 cats.')\n",
    "mo1.group()"
   ]
  },
  {
   "cell_type": "code",
   "execution_count": null,
   "id": "7fa2cf80",
   "metadata": {},
   "outputs": [],
   "source": []
  }
 ],
 "metadata": {
  "kernelspec": {
   "display_name": "Python 3 (ipykernel)",
   "language": "python",
   "name": "python3"
  },
  "language_info": {
   "codemirror_mode": {
    "name": "ipython",
    "version": 3
   },
   "file_extension": ".py",
   "mimetype": "text/x-python",
   "name": "python",
   "nbconvert_exporter": "python",
   "pygments_lexer": "ipython3",
   "version": "3.9.12"
  }
 },
 "nbformat": 4,
 "nbformat_minor": 5
}
