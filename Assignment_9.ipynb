{
 "cells": [
  {
   "cell_type": "markdown",
   "id": "3d44596d",
   "metadata": {},
   "source": [
    "### 1. To what does a relative path refer?\n",
    "   The relative path is the path of a file with respect to your current working directory (PWD)."
   ]
  },
  {
   "cell_type": "markdown",
   "id": "abb76516",
   "metadata": {},
   "source": [
    "### 2. What does an absolute path start with your operating system?\n",
    "   An absolute path contains the full set of directories from the root of the file system up to your target file or directory. \n",
    "   An absolute path start with the root folder, such as / or C:\\\\."
   ]
  },
  {
   "cell_type": "markdown",
   "id": "f65e4fb1",
   "metadata": {},
   "source": [
    "### 3. What do the functions os.getcwd() and os.chdir() do?\n",
    "   getcwd stands for \"get current working directory\". os.getcwd() returns the absolute path of the working directory where Python is currently running as a string str . \n",
    "   chdir stands of \"change directory\". os.chdir() method in Python used to change the current working directory to specified path. It takes only a single argument as new directory path."
   ]
  },
  {
   "cell_type": "markdown",
   "id": "c583fee4",
   "metadata": {},
   "source": [
    "### 4. What are the . and .. folders?\n",
    "    The . is the current directory, while .. signifies the parent directory."
   ]
  },
  {
   "cell_type": "markdown",
   "id": "5a0a14e6",
   "metadata": {},
   "source": [
    "### 5. In C:\\bacon\\eggs\\spam.txt, which part is the dir name, and which part is the base name?\n",
    "   The basename is the final rightmost segment of the file path . In the above path base name is spam.txt. os.path.basename() can be used to extract base name from the path.\n",
    "   dir name is the folder name in which file exists. In the above path dir name is  C:\\bacon\\eggs . os.path.dirname() can be used to extract dir name form path."
   ]
  },
  {
   "cell_type": "markdown",
   "id": "6b6cb471",
   "metadata": {},
   "source": [
    "### 6. What are the three “mode” arguments that can be passed to the open() function?\n",
    "   - mode arguments that can be passed to open () function are:\n",
    "       - 'r'\tOpen a file for reading. (default)\n",
    "       - 'w'\tOpen a file for writing. Creates a new file if it does not exist or truncates the file if it exists.\n",
    "       - 'a'\tOpen for appending at the end of the file without truncating it. Creates a new file if it does not exist.\n",
    "       - '+'\tOpen a file for updating (reading and writing)"
   ]
  },
  {
   "cell_type": "markdown",
   "id": "c606e688",
   "metadata": {},
   "source": [
    "### 7. What happens if an existing file is opened in write mode?\n",
    "    when a existing file is opened in write mode, contents which were previously present will be overwritten by new content passed."
   ]
  },
  {
   "cell_type": "markdown",
   "id": "ba979e9d",
   "metadata": {},
   "source": [
    "### 8. How do you tell the difference between read() and readlines()?\n",
    "    read() reads the entire contents of the file into a string.The read() method returns the specified number of bytes from the file. Default is -1 which means the whole file.\n",
    "    The readline() method returns one line from the file. You can also specified how many bytes from the line to return, by using the size parameter."
   ]
  },
  {
   "cell_type": "markdown",
   "id": "7f59d6aa",
   "metadata": {},
   "source": [
    "### 9. What data structure does a shelf value resemble?\n",
    "   A shelf value resembles a dictionary value; it has keys and values, along with keys() and values() methods that work similarly to the dictionary methods of the same names."
   ]
  },
  {
   "cell_type": "code",
   "execution_count": null,
   "id": "8b327f5a",
   "metadata": {},
   "outputs": [],
   "source": []
  }
 ],
 "metadata": {
  "kernelspec": {
   "display_name": "Python 3 (ipykernel)",
   "language": "python",
   "name": "python3"
  },
  "language_info": {
   "codemirror_mode": {
    "name": "ipython",
    "version": 3
   },
   "file_extension": ".py",
   "mimetype": "text/x-python",
   "name": "python",
   "nbconvert_exporter": "python",
   "pygments_lexer": "ipython3",
   "version": "3.9.12"
  }
 },
 "nbformat": 4,
 "nbformat_minor": 5
}
