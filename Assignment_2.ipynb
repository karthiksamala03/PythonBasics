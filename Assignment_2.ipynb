{
 "cells": [
  {
   "cell_type": "markdown",
   "id": "cefc6b13",
   "metadata": {},
   "source": [
    "### 1.What are the two values of the Boolean data type? How do you write them?"
   ]
  },
  {
   "cell_type": "markdown",
   "id": "3edba48d",
   "metadata": {},
   "source": [
    "#### Answer:\n",
    "    True and False are the two vlaues of Boolean data type.\n",
    "    will write as True and False"
   ]
  },
  {
   "cell_type": "code",
   "execution_count": 4,
   "id": "f90e8adf",
   "metadata": {},
   "outputs": [
    {
     "name": "stdout",
     "output_type": "stream",
     "text": [
      "<class 'bool'>\n",
      "<class 'bool'>\n"
     ]
    }
   ],
   "source": [
    "a, b = True, False\n",
    "print(type(a))\n",
    "print(type(b))"
   ]
  },
  {
   "cell_type": "markdown",
   "id": "91aac897",
   "metadata": {},
   "source": [
    "### 2. What are the three different types of Boolean/logical operators?\n"
   ]
  },
  {
   "cell_type": "markdown",
   "id": "57f3c8c3",
   "metadata": {},
   "source": [
    "#### Answer :\n",
    "    There are mainly three types of logical operators in python : logical AND, logical OR and logical NOT. They are used in the code as and,or and not"
   ]
  },
  {
   "cell_type": "markdown",
   "id": "93d3f995",
   "metadata": {},
   "source": [
    "### 3. Make a list of each Boolean operator&#39;s truth tables (i.e. every possible combination of Boolean values for the operator and what it evaluate ).\n"
   ]
  },
  {
   "cell_type": "code",
   "execution_count": 30,
   "id": "16dd4028",
   "metadata": {},
   "outputs": [
    {
     "name": "stdout",
     "output_type": "stream",
     "text": [
      "A B A and B\n",
      "0 0    0\n",
      "0 1    0\n",
      "1 0    0\n",
      "**********\n",
      "A B A or B\n",
      "0 0    0\n",
      "0 1    1\n",
      "1 0    1\n",
      "**********\n",
      "C not C\n",
      "0 1\n",
      "1 0\n"
     ]
    }
   ],
   "source": [
    "A = [0,0,1,1]\n",
    "B = [0,1,0,1]\n",
    "\n",
    "andresult = A and B\n",
    "orresult = A or B\n",
    "notresult = not B \n",
    "notresult\n",
    "\n",
    "print('A B A and B')\n",
    "for i in range(3):\n",
    "    print(f'{A[i]} {B[i]}    {A[i] and B[i]}')\n",
    "print('**********')\n",
    "print('A B A or B')\n",
    "for i in range(3):\n",
    "    print(f'{A[i]} {B[i]}    {A[i] or B[i]}')\n",
    "print('**********')\n",
    "C = [0, 1]\n",
    "print('C not C')\n",
    "for i in range(2):\n",
    "    print(f'{C[i]} {int(not C[i])}')"
   ]
  },
  {
   "cell_type": "markdown",
   "id": "e9c6d60c",
   "metadata": {},
   "source": [
    "### 4. What are the values of the following expressions?\n",
    "    - (5 > 4) and (3 == 5) \n",
    "    - not (5 > 4)\n",
    "    - (5 > 4) or (3 == 5)\n",
    "    - not ((5 > 4) or (3 == 5))\n",
    "    - (True and True) and (True == False)\n",
    "    - (not False) or (not True)"
   ]
  },
  {
   "cell_type": "markdown",
   "id": "b83bd656",
   "metadata": {},
   "source": [
    "#### Answers:\n",
    "    - (5 > 4) and (3 == 5)  - > True and False = False\n",
    "    - not (5 > 4) -> not(True) = False\n",
    "    - (5 > 4) or (3 == 5) -> True or False = True\n",
    "    - not ((5 > 4) or (3 == 5)) -> not(True) - >False\n",
    "    - (True and True) and (True == False) - > (True) and (False) = False\n",
    "    - (not False) or (not True) -> True or False = True"
   ]
  },
  {
   "cell_type": "code",
   "execution_count": 50,
   "id": "72980bc0",
   "metadata": {},
   "outputs": [
    {
     "data": {
      "text/plain": [
       "False"
      ]
     },
     "execution_count": 50,
     "metadata": {},
     "output_type": "execute_result"
    }
   ],
   "source": [
    "(5 > 4) and (3 == 5)"
   ]
  },
  {
   "cell_type": "code",
   "execution_count": 42,
   "id": "c8ce49e8",
   "metadata": {},
   "outputs": [
    {
     "data": {
      "text/plain": [
       "False"
      ]
     },
     "execution_count": 42,
     "metadata": {},
     "output_type": "execute_result"
    }
   ],
   "source": [
    "not (5 > 4)"
   ]
  },
  {
   "cell_type": "code",
   "execution_count": 39,
   "id": "0a9e0545",
   "metadata": {},
   "outputs": [
    {
     "data": {
      "text/plain": [
       "True"
      ]
     },
     "execution_count": 39,
     "metadata": {},
     "output_type": "execute_result"
    }
   ],
   "source": [
    "(5 > 4) or (3 == 5)"
   ]
  },
  {
   "cell_type": "code",
   "execution_count": 43,
   "id": "7ac84f7a",
   "metadata": {},
   "outputs": [
    {
     "data": {
      "text/plain": [
       "False"
      ]
     },
     "execution_count": 43,
     "metadata": {},
     "output_type": "execute_result"
    }
   ],
   "source": [
    "not ((5 > 4) or (3 == 5))"
   ]
  },
  {
   "cell_type": "code",
   "execution_count": 44,
   "id": "053f3072",
   "metadata": {},
   "outputs": [
    {
     "data": {
      "text/plain": [
       "False"
      ]
     },
     "execution_count": 44,
     "metadata": {},
     "output_type": "execute_result"
    }
   ],
   "source": [
    "(True and True) and (True == False)"
   ]
  },
  {
   "cell_type": "code",
   "execution_count": 45,
   "id": "fea8e8ae",
   "metadata": {},
   "outputs": [
    {
     "data": {
      "text/plain": [
       "True"
      ]
     },
     "execution_count": 45,
     "metadata": {},
     "output_type": "execute_result"
    }
   ],
   "source": [
    "(not False) or (not True)"
   ]
  },
  {
   "cell_type": "markdown",
   "id": "bdffdb34",
   "metadata": {},
   "source": [
    "### 5. What are the six comparison operators?"
   ]
  },
  {
   "cell_type": "markdown",
   "id": "cf4e0180",
   "metadata": {},
   "source": [
    "#### Answer:\n",
    "    == Equal to\n",
    "    != Not Equal to\n",
    "    <  Less than\n",
    "    <= Less than or Equal to\n",
    "    > Greater than\n",
    "    >= Greater than 0r equal to"
   ]
  },
  {
   "cell_type": "markdown",
   "id": "d42ba059",
   "metadata": {},
   "source": [
    "### 6. How do you tell the difference between the equal to and assignment operators?Describe a condition and when you would use one."
   ]
  },
  {
   "cell_type": "markdown",
   "id": "f040d939",
   "metadata": {},
   "source": [
    "#### Answer: \n",
    "    == Equal to operator\n",
    "    = Assignment operator"
   ]
  },
  {
   "cell_type": "code",
   "execution_count": 48,
   "id": "d5af4d01",
   "metadata": {},
   "outputs": [
    {
     "name": "stdout",
     "output_type": "stream",
     "text": [
      "1 and True are equal\n"
     ]
    }
   ],
   "source": [
    "# Assignment operator - Assigning values to variables\n",
    "a = 1\n",
    "b = True\n",
    "\n",
    "# Equal to operator - comparing 2 variables\n",
    "if a == b:\n",
    "    print(f'{a} and {b} are equal')\n",
    "else:\n",
    "    print(f'{a} and {b} are not equal')"
   ]
  },
  {
   "cell_type": "markdown",
   "id": "deffc998",
   "metadata": {},
   "source": [
    "### 7. Identify the three blocks in this code:\n",
    "    spam = 0  # \n",
    "    if spam == 10:\n",
    "    print(\"eggs\")    \n",
    "    if spam > 5:\n",
    "    print(\"bacon\")\n",
    "    else:\n",
    "    print(\"ham\")\n",
    "    print(\"spam\")\n",
    "    print(\"spam\")\n"
   ]
  },
  {
   "cell_type": "code",
   "execution_count": 51,
   "id": "44dbb0ed",
   "metadata": {},
   "outputs": [
    {
     "name": "stdout",
     "output_type": "stream",
     "text": [
      "ham\n",
      "spam\n",
      "spam\n"
     ]
    }
   ],
   "source": [
    "spam = 0  # \n",
    "if spam == 10:    ## 1st block \n",
    "    print(\"eggs\")    \n",
    "if spam > 5:      ## 2nd block \n",
    "    print(\"bacon\")\n",
    "else:             ## 3rd block \n",
    "    print(\"ham\")\n",
    "    print(\"spam\")\n",
    "    print(\"spam\")"
   ]
  },
  {
   "cell_type": "markdown",
   "id": "4bf0f662",
   "metadata": {},
   "source": [
    "### 8. Write code that prints Hello if 1 is stored in spam, prints Howdy if 2 is stored in spam, and prints Greetings! if anything else is stored in spam."
   ]
  },
  {
   "cell_type": "markdown",
   "id": "04a9dd8d",
   "metadata": {},
   "source": [
    "#### Answer:"
   ]
  },
  {
   "cell_type": "code",
   "execution_count": 56,
   "id": "6af473c0",
   "metadata": {},
   "outputs": [
    {
     "name": "stdout",
     "output_type": "stream",
     "text": [
      "Enter value for spam :st\n",
      "invalid literal for int() with base 10: 'st'\n"
     ]
    }
   ],
   "source": [
    "try:\n",
    "    spam = int(input(\"Enter value for spam :\"))\n",
    "    if spam == 1:\n",
    "        print('Hello')\n",
    "    elif spam == 2:\n",
    "        print('Howdy')\n",
    "    else:\n",
    "        print(\"Greetings!\")\n",
    "except Exception as e:\n",
    "    print(e)"
   ]
  },
  {
   "cell_type": "markdown",
   "id": "1b1ea063",
   "metadata": {},
   "source": [
    "### 9. If your programme is stuck in an endless loop, what keys you’ll press?\n",
    "#### Answer : Press CTRL + c to exit from a infinite loop"
   ]
  },
  {
   "cell_type": "markdown",
   "id": "16fed7a2",
   "metadata": {},
   "source": [
    "### 10. How can you tell the difference between break and continue?\n",
    "#### Answer: \n",
    "       break - It is used to exit from the loop\n",
    "       continue - It is used to continue the loop without executing the next lines of codes below continue "
   ]
  },
  {
   "cell_type": "code",
   "execution_count": 65,
   "id": "cf341013",
   "metadata": {},
   "outputs": [
    {
     "name": "stdout",
     "output_type": "stream",
     "text": [
      "1\n",
      "2\n"
     ]
    }
   ],
   "source": [
    "#Break Example\n",
    "lst = [1,2,3]\n",
    "for i in lst:\n",
    "    print(i)\n",
    "    if i == 2:\n",
    "        break\n",
    "#In this example, the loop will break after the i is equal to 2."
   ]
  },
  {
   "cell_type": "code",
   "execution_count": 66,
   "id": "461a824a",
   "metadata": {},
   "outputs": [
    {
     "name": "stdout",
     "output_type": "stream",
     "text": [
      "0\n",
      "1\n",
      "3\n"
     ]
    }
   ],
   "source": [
    "# contune example\n",
    "for x in range(4):\n",
    "    if (x==2):\n",
    "        continue\n",
    "    print(x)\n",
    "#This example would print all numbers from 0-4 except 2"
   ]
  },
  {
   "cell_type": "markdown",
   "id": "f8b9de23",
   "metadata": {},
   "source": [
    "### 11. In a for loop, what is the difference between range(10), range(0, 10), and range(0, 10, 1)?\n",
    "#### Answer :\n",
    "        There is no difference in the range(10), range(0,10) and range(0,10,1). range by default takes 0 as starting point and 1 as by default increment."
   ]
  },
  {
   "cell_type": "code",
   "execution_count": 61,
   "id": "8aa7f249",
   "metadata": {},
   "outputs": [
    {
     "name": "stdout",
     "output_type": "stream",
     "text": [
      "0 1 2 3 4 5 6 7 8 9 \n",
      "\n",
      "0 1 2 3 4 5 6 7 8 9 \n",
      "\n",
      "0 1 2 3 4 5 6 7 8 9 "
     ]
    }
   ],
   "source": [
    "for i in range(10):\n",
    "    print(i,end=' ')\n",
    "print('\\n')\n",
    "for i in range(0,10):\n",
    "    print(i,end=' ')\n",
    "print('\\n')\n",
    "for i in range(0,10,1):\n",
    "    print(i,end=' ')"
   ]
  },
  {
   "cell_type": "markdown",
   "id": "50c21a7c",
   "metadata": {},
   "source": [
    "### 12. Write a short program that prints the numbers 1 to 10 using a for loop. Then write an equivalent program that prints the numbers 1 to 10 using a while loop.\n"
   ]
  },
  {
   "cell_type": "code",
   "execution_count": 70,
   "id": "df8ab6d0",
   "metadata": {},
   "outputs": [
    {
     "name": "stdout",
     "output_type": "stream",
     "text": [
      "1 2 3 4 5 6 7 8 9 10 \n",
      "\n",
      "1 2 3 4 5 6 7 8 9 10 "
     ]
    }
   ],
   "source": [
    "for i in range(1,11):\n",
    "    print(i,end=' ')\n",
    "\n",
    "print('\\n')\n",
    "i = 1\n",
    "while i<=10:\n",
    "    print(i, end=' ')\n",
    "    i +=1"
   ]
  },
  {
   "cell_type": "markdown",
   "id": "113b2950",
   "metadata": {},
   "source": [
    "### 13. If you had a function named bacon() inside a module named spam, how would you call it after importing spam?"
   ]
  },
  {
   "cell_type": "markdown",
   "id": "1a8b303f",
   "metadata": {},
   "source": [
    "#### Answer:\n",
    "    import spam\n",
    "    spam.bacon()"
   ]
  },
  {
   "cell_type": "code",
   "execution_count": null,
   "id": "2650c1d5",
   "metadata": {},
   "outputs": [],
   "source": []
  }
 ],
 "metadata": {
  "kernelspec": {
   "display_name": "Python 3 (ipykernel)",
   "language": "python",
   "name": "python3"
  },
  "language_info": {
   "codemirror_mode": {
    "name": "ipython",
    "version": 3
   },
   "file_extension": ".py",
   "mimetype": "text/x-python",
   "name": "python",
   "nbconvert_exporter": "python",
   "pygments_lexer": "ipython3",
   "version": "3.9.12"
  }
 },
 "nbformat": 4,
 "nbformat_minor": 5
}
