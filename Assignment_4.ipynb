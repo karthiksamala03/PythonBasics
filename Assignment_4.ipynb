{
 "cells": [
  {
   "cell_type": "markdown",
   "id": "08e58dc2",
   "metadata": {},
   "source": [
    "### 1. What exactly is []?\n",
    "    [] is a emplty list, like a =[]"
   ]
  },
  {
   "cell_type": "markdown",
   "id": "360a2cbf",
   "metadata": {},
   "source": [
    "### 2. In a list of values stored in a variable called spam, how would you assign the value hello' as the third value? (Assume [2, 4, 6, 8, 10] are in spam.)"
   ]
  },
  {
   "cell_type": "code",
   "execution_count": 1,
   "id": "f4b95b83",
   "metadata": {},
   "outputs": [
    {
     "data": {
      "text/plain": [
       "[2, 4, 'hello', 8, 10]"
      ]
     },
     "execution_count": 1,
     "metadata": {},
     "output_type": "execute_result"
    }
   ],
   "source": [
    "# solution by changing the value in index 3\n",
    "spam = [2, 4, 6, 8, 10]\n",
    "spam[2] = 'hello'\n",
    "spam"
   ]
  },
  {
   "cell_type": "code",
   "execution_count": 2,
   "id": "9bbd89e7",
   "metadata": {},
   "outputs": [
    {
     "data": {
      "text/plain": [
       "[2, 4, 'hello', 6, 8, 10]"
      ]
     },
     "execution_count": 2,
     "metadata": {},
     "output_type": "execute_result"
    }
   ],
   "source": [
    "# solution by inserting value in 3rd index\n",
    "spam = [2, 4, 6, 8, 10]\n",
    "spam.insert(2,'hello')\n",
    "spam"
   ]
  },
  {
   "cell_type": "markdown",
   "id": "d3d26e6d",
   "metadata": {},
   "source": [
    "### Lets pretend the spam includes the list ['a', 'b','c','d'] for the next three queries."
   ]
  },
  {
   "cell_type": "markdown",
   "id": "9513c11a",
   "metadata": {},
   "source": [
    "### 3. What is the value of spam[int(int('3' * 2) / 11)]?"
   ]
  },
  {
   "cell_type": "code",
   "execution_count": 10,
   "id": "826e7697",
   "metadata": {},
   "outputs": [
    {
     "data": {
      "text/plain": [
       "'d'"
      ]
     },
     "execution_count": 10,
     "metadata": {},
     "output_type": "execute_result"
    }
   ],
   "source": [
    "spam = ['a', 'b','c','d']\n",
    "spam[int(int('3' * 2) / 11)] # spam[int(33/11)] = spam[3]"
   ]
  },
  {
   "cell_type": "markdown",
   "id": "e88556b7",
   "metadata": {},
   "source": [
    "### 4. What is the value of spam[-1]?\n",
    "#### Answer : 'd'"
   ]
  },
  {
   "cell_type": "code",
   "execution_count": 8,
   "id": "36d81a12",
   "metadata": {},
   "outputs": [
    {
     "data": {
      "text/plain": [
       "'d'"
      ]
     },
     "execution_count": 8,
     "metadata": {},
     "output_type": "execute_result"
    }
   ],
   "source": [
    "spam = ['a', 'b','c','d']\n",
    "spam[-1]"
   ]
  },
  {
   "cell_type": "markdown",
   "id": "ccdbe970",
   "metadata": {},
   "source": [
    "### 5. What is the value of spam[:2]?\n",
    "#### Answer: ['a', 'b']"
   ]
  },
  {
   "cell_type": "code",
   "execution_count": 9,
   "id": "ba0d46f0",
   "metadata": {},
   "outputs": [
    {
     "data": {
      "text/plain": [
       "['a', 'b']"
      ]
     },
     "execution_count": 9,
     "metadata": {},
     "output_type": "execute_result"
    }
   ],
   "source": [
    "spam = ['a', 'b','c','d']\n",
    "spam[:2]"
   ]
  },
  {
   "cell_type": "markdown",
   "id": "5504dfc5",
   "metadata": {},
   "source": [
    "### Let's pretend bacon has the list [3.14, 'cat', 11, 'cat', True] for the next three questions."
   ]
  },
  {
   "cell_type": "markdown",
   "id": "272b2954",
   "metadata": {},
   "source": [
    "### 6. What is the value of bacon.index('cat')?"
   ]
  },
  {
   "cell_type": "code",
   "execution_count": 13,
   "id": "3abe1e15",
   "metadata": {},
   "outputs": [
    {
     "data": {
      "text/plain": [
       "1"
      ]
     },
     "execution_count": 13,
     "metadata": {},
     "output_type": "execute_result"
    }
   ],
   "source": [
    "bacon=[3.14, 'cat', 11, 'cat', True]\n",
    "bacon.index('cat') # it returns the index of first occurrence of 'cat'"
   ]
  },
  {
   "cell_type": "markdown",
   "id": "131403d3",
   "metadata": {},
   "source": [
    "### 7. How does bacon.append(99) change the look of the list value in bacon?"
   ]
  },
  {
   "cell_type": "code",
   "execution_count": 16,
   "id": "a4d7ea7f",
   "metadata": {},
   "outputs": [
    {
     "data": {
      "text/plain": [
       "[3.14, 'cat', 11, 'cat', True, 99]"
      ]
     },
     "execution_count": 16,
     "metadata": {},
     "output_type": "execute_result"
    }
   ],
   "source": [
    "bacon=[3.14, 'cat', 11, 'cat', True]\n",
    "bacon.append(99) # append adds the item at the end of the list\n",
    "bacon"
   ]
  },
  {
   "cell_type": "markdown",
   "id": "32c9d791",
   "metadata": {},
   "source": [
    "### 8. How does bacon.remove(&#39;cat&#39;) change the look of the list in bacon?"
   ]
  },
  {
   "cell_type": "code",
   "execution_count": 17,
   "id": "018599eb",
   "metadata": {},
   "outputs": [
    {
     "data": {
      "text/plain": [
       "[3.14, 11, 'cat', True]"
      ]
     },
     "execution_count": 17,
     "metadata": {},
     "output_type": "execute_result"
    }
   ],
   "source": [
    "bacon=[3.14, 'cat', 11, 'cat', True]\n",
    "bacon.remove('cat') # remove first occurrence of item\n",
    "bacon"
   ]
  },
  {
   "cell_type": "markdown",
   "id": "3213f1d2",
   "metadata": {},
   "source": [
    "### 9. What are the list concatenation and list replication operators?\n",
    "    * -> is list replication operatotor\n",
    "    + -> is list cancatination operator"
   ]
  },
  {
   "cell_type": "code",
   "execution_count": 19,
   "id": "7110d8af",
   "metadata": {},
   "outputs": [
    {
     "data": {
      "text/plain": [
       "[1, 3, 1, 3, 1, 3]"
      ]
     },
     "execution_count": 19,
     "metadata": {},
     "output_type": "execute_result"
    }
   ],
   "source": [
    "l1 = [1,3]\n",
    "\n",
    "# list replication\n",
    "l1*3"
   ]
  },
  {
   "cell_type": "code",
   "execution_count": 18,
   "id": "f4683bf3",
   "metadata": {},
   "outputs": [
    {
     "data": {
      "text/plain": [
       "[1, 3, 7, 9]"
      ]
     },
     "execution_count": 18,
     "metadata": {},
     "output_type": "execute_result"
    }
   ],
   "source": [
    "l1 = [1,3]\n",
    "l2 = [7,9]\n",
    "# list concatination\n",
    "l1+l2"
   ]
  },
  {
   "cell_type": "markdown",
   "id": "e08996f5",
   "metadata": {},
   "source": [
    "### 10. What is difference between the list methods append() and insert()?\n",
    "\n",
    "    append() -> Appends object to the end of the list\n",
    "    insert() -> Insert object on specified index"
   ]
  },
  {
   "cell_type": "code",
   "execution_count": 22,
   "id": "fe82e215",
   "metadata": {},
   "outputs": [
    {
     "data": {
      "text/plain": [
       "['karthik', True, 12.9, 100, 23]"
      ]
     },
     "execution_count": 22,
     "metadata": {},
     "output_type": "execute_result"
    }
   ],
   "source": [
    "k = ['karthik', True, 12.9, 100]\n",
    "k.append(23)\n",
    "k"
   ]
  },
  {
   "cell_type": "code",
   "execution_count": 23,
   "id": "b2bb9820",
   "metadata": {},
   "outputs": [
    {
     "data": {
      "text/plain": [
       "['karthik', 23, True, 12.9, 100]"
      ]
     },
     "execution_count": 23,
     "metadata": {},
     "output_type": "execute_result"
    }
   ],
   "source": [
    "k = ['karthik', True, 12.9, 100]\n",
    "k.insert(1,23)\n",
    "k"
   ]
  },
  {
   "cell_type": "markdown",
   "id": "a8d64795",
   "metadata": {},
   "source": [
    "### 11. What are the two methods for removing items from a list?\n",
    "    remove(item) - removeds first occurence of a item\n",
    "    pop() - Remove object on specified index and return pop object"
   ]
  },
  {
   "cell_type": "code",
   "execution_count": 24,
   "id": "5ffce6e2",
   "metadata": {},
   "outputs": [
    {
     "data": {
      "text/plain": [
       "['karthik', True, 100, 12.9]"
      ]
     },
     "execution_count": 24,
     "metadata": {},
     "output_type": "execute_result"
    }
   ],
   "source": [
    "k = ['karthik', True, 12.9, 100, 12.9]\n",
    "k.remove(12.9)\n",
    "k"
   ]
  },
  {
   "cell_type": "code",
   "execution_count": 29,
   "id": "bf84385d",
   "metadata": {},
   "outputs": [
    {
     "data": {
      "text/plain": [
       "12.9"
      ]
     },
     "execution_count": 29,
     "metadata": {},
     "output_type": "execute_result"
    }
   ],
   "source": [
    "k = ['karthik', True, 12.9, 100, 12.9]\n",
    "k.pop(2)"
   ]
  },
  {
   "cell_type": "markdown",
   "id": "9b0945d6",
   "metadata": {},
   "source": [
    "### 12. Describe how list values and string values are identical.\n",
    "    1. Both lists and strings can be passed to len() function\n",
    "    2. Have indexes and slices\n",
    "    3. Can be used in for loops\n",
    "    4. Can be concatenated or replicated\n",
    "    5. Can be used with the in and not in operators"
   ]
  },
  {
   "cell_type": "markdown",
   "id": "864515d0",
   "metadata": {},
   "source": [
    "### 13. What's the difference between tuples and lists?\n",
    "    Lists :\n",
    "    are mutable - they can have values added, removed, or changed. \n",
    "    lists use the square brackets, [ and ]\n",
    "    eg. k = [1,2,3]\n",
    "    Tuples :\n",
    "    are immutable; they cannot be changed once defined. \n",
    "    Tuples are written using parentheses, ( and ) while \n",
    "    eg. k = (1,2,3)"
   ]
  },
  {
   "cell_type": "markdown",
   "id": "782a5853",
   "metadata": {},
   "source": [
    "### 14. How do you type a tuple value that only contains the integer 42?\n",
    "#### Answer :"
   ]
  },
  {
   "cell_type": "code",
   "execution_count": 31,
   "id": "e75f10c9",
   "metadata": {},
   "outputs": [
    {
     "data": {
      "text/plain": [
       "tuple"
      ]
     },
     "execution_count": 31,
     "metadata": {},
     "output_type": "execute_result"
    }
   ],
   "source": [
    "k = (42,)\n",
    "type(k)"
   ]
  },
  {
   "cell_type": "markdown",
   "id": "6333cb4c",
   "metadata": {},
   "source": [
    "### 15. How do you get a list value's tuple form? How do you get a tuple value's list form?\n",
    "    By using type casting : tuple() and list() functions"
   ]
  },
  {
   "cell_type": "code",
   "execution_count": 33,
   "id": "87114083",
   "metadata": {},
   "outputs": [
    {
     "data": {
      "text/plain": [
       "tuple"
      ]
     },
     "execution_count": 33,
     "metadata": {},
     "output_type": "execute_result"
    }
   ],
   "source": [
    "k = [1,2,3]\n",
    "t = tuple(k)\n",
    "type(t)"
   ]
  },
  {
   "cell_type": "code",
   "execution_count": 34,
   "id": "ac33b91f",
   "metadata": {},
   "outputs": [
    {
     "data": {
      "text/plain": [
       "list"
      ]
     },
     "execution_count": 34,
     "metadata": {},
     "output_type": "execute_result"
    }
   ],
   "source": [
    "t = (1,2,3)\n",
    "k = list(k)\n",
    "type(k)"
   ]
  },
  {
   "cell_type": "markdown",
   "id": "03624689",
   "metadata": {},
   "source": [
    "### 16. Variables that &quot;contain&quot; list values are not necessarily lists themselves. Instead, what do they contain?\n",
    "    They contain references to list values"
   ]
  },
  {
   "cell_type": "markdown",
   "id": "69ceb4e2",
   "metadata": {},
   "source": [
    "#### 17. How do you distinguish between copy.copy() and copy.deepcopy()?\n",
    "    The copy.copy() function will do a shallow copy of a list, \n",
    "    The copy.deepcopy() function will do a deep copy of a list. only copy.deepcopy() will duplicate any lists inside the \n",
    "    list"
   ]
  },
  {
   "cell_type": "code",
   "execution_count": null,
   "id": "e162f008",
   "metadata": {},
   "outputs": [],
   "source": []
  }
 ],
 "metadata": {
  "kernelspec": {
   "display_name": "Python 3 (ipykernel)",
   "language": "python",
   "name": "python3"
  },
  "language_info": {
   "codemirror_mode": {
    "name": "ipython",
    "version": 3
   },
   "file_extension": ".py",
   "mimetype": "text/x-python",
   "name": "python",
   "nbconvert_exporter": "python",
   "pygments_lexer": "ipython3",
   "version": "3.9.12"
  }
 },
 "nbformat": 4,
 "nbformat_minor": 5
}
