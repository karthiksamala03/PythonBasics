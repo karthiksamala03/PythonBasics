{
 "cells": [
  {
   "cell_type": "markdown",
   "id": "5c3085ff",
   "metadata": {},
   "source": [
    "### 1. How do you distinguish between shutil.copy() and shutil.copytree()?\n",
    "    shutil.copy : Copies a single file\n",
    "    shutil.copytree() : will copy an entire folder and every folder and file contained in it"
   ]
  },
  {
   "cell_type": "markdown",
   "id": "f3ff06b9",
   "metadata": {},
   "source": [
    "### 2. What function is used to rename files??\n",
    "    Answer: os.rename()\n",
    "        import os\n",
    "        os.rename(\"text.txt\",\"testnew.txt\")"
   ]
  },
  {
   "cell_type": "markdown",
   "id": "0f0e2c42",
   "metadata": {},
   "source": [
    "### 3. What is the difference between the delete functions in the send2trash and shutil modules?\n",
    "    import shutil\n",
    "    shutil.retree():\n",
    "    The shutil module’s rmtree() function can be used to delete files or folders. But, this function delete the files\n",
    "    permanently. \n",
    "    The operations cannot be undone if there were any accidental deletions performed \n",
    "        \n",
    "    import send2trash\n",
    "    send2trash.send2trash() : Using send2trash, we can send files to the Trash or Recycle Bin instead of permanently \n",
    "    deleting them.\n",
    "    If the directory contains files or other folders, those are also deleted. A TrashPermissionError exception is raised, \n",
    "    in case a file could not be deleted due to permission error or any other unexpected reason."
   ]
  },
  {
   "cell_type": "code",
   "execution_count": 11,
   "id": "de4c97ad",
   "metadata": {},
   "outputs": [],
   "source": [
    "# import shutil\n",
    "# import send2trash\n",
    "# shutil.rmtree(\"path\")\n",
    "# send2trash.send2trash(\"path\")"
   ]
  },
  {
   "cell_type": "markdown",
   "id": "2c22e3f0",
   "metadata": {},
   "source": [
    "### 4. ZipFile objects have a close() method just like File objects’ close() method. What ZipFile method is  equivalent to File objects’ open() method?\n",
    "    from zipfile import Zipfile\n",
    "    with ZipFile(file_name, 'r') as zip: -> this code will open specified zipfile for us. we can use zip objext to preform oother operation the ziplife. like zip.read()"
   ]
  },
  {
   "cell_type": "markdown",
   "id": "cdbf3daa",
   "metadata": {},
   "source": [
    "### 5. Create a programme that searches a folder tree for files with a certain file extension (such as .pdf or .jpg). Copy these files from whatever location they are in to a new folder."
   ]
  },
  {
   "cell_type": "code",
   "execution_count": 60,
   "id": "b3248729",
   "metadata": {},
   "outputs": [
    {
     "name": "stdout",
     "output_type": "stream",
     "text": [
      "Looking in C:\\Users\\use\\Notebooks\\iNeuron\\PythonBasics for files with extensions of .pdf, .txt, .ipynb\n",
      "Coping C:\\Users\\use\\Notebooks\\iNeuron\\PythonBasics\\Assignment_1.ipynb to C:\\Users\\use\\Notebooks\\iNeuron\\dest folder\n",
      "Coping C:\\Users\\use\\Notebooks\\iNeuron\\PythonBasics\\Assignment_10.ipynb to C:\\Users\\use\\Notebooks\\iNeuron\\dest folder\n",
      "Coping C:\\Users\\use\\Notebooks\\iNeuron\\PythonBasics\\Assignment_2.ipynb to C:\\Users\\use\\Notebooks\\iNeuron\\dest folder\n",
      "Coping C:\\Users\\use\\Notebooks\\iNeuron\\PythonBasics\\Assignment_3.ipynb to C:\\Users\\use\\Notebooks\\iNeuron\\dest folder\n",
      "Coping C:\\Users\\use\\Notebooks\\iNeuron\\PythonBasics\\Assignment_4.ipynb to C:\\Users\\use\\Notebooks\\iNeuron\\dest folder\n",
      "Coping C:\\Users\\use\\Notebooks\\iNeuron\\PythonBasics\\Assignment_5.ipynb to C:\\Users\\use\\Notebooks\\iNeuron\\dest folder\n",
      "Coping C:\\Users\\use\\Notebooks\\iNeuron\\PythonBasics\\Assignment_6.ipynb to C:\\Users\\use\\Notebooks\\iNeuron\\dest folder\n",
      "Coping C:\\Users\\use\\Notebooks\\iNeuron\\PythonBasics\\Assignment_7.ipynb to C:\\Users\\use\\Notebooks\\iNeuron\\dest folder\n",
      "Coping C:\\Users\\use\\Notebooks\\iNeuron\\PythonBasics\\Assignment_8.ipynb to C:\\Users\\use\\Notebooks\\iNeuron\\dest folder\n",
      "Coping C:\\Users\\use\\Notebooks\\iNeuron\\PythonBasics\\Assignment_9.ipynb to C:\\Users\\use\\Notebooks\\iNeuron\\dest folder\n",
      "Coping C:\\Users\\use\\Notebooks\\iNeuron\\PythonBasics\\text.txt to C:\\Users\\use\\Notebooks\\iNeuron\\dest folder\n",
      "Coping C:\\Users\\use\\Notebooks\\iNeuron\\PythonBasics\\.ipynb_checkpoints\\Assignment_1-checkpoint.ipynb to C:\\Users\\use\\Notebooks\\iNeuron\\dest folder\n",
      "Coping C:\\Users\\use\\Notebooks\\iNeuron\\PythonBasics\\.ipynb_checkpoints\\Assignment_10-checkpoint.ipynb to C:\\Users\\use\\Notebooks\\iNeuron\\dest folder\n",
      "Coping C:\\Users\\use\\Notebooks\\iNeuron\\PythonBasics\\.ipynb_checkpoints\\Assignment_2-checkpoint.ipynb to C:\\Users\\use\\Notebooks\\iNeuron\\dest folder\n",
      "Coping C:\\Users\\use\\Notebooks\\iNeuron\\PythonBasics\\.ipynb_checkpoints\\Assignment_3-checkpoint.ipynb to C:\\Users\\use\\Notebooks\\iNeuron\\dest folder\n",
      "Coping C:\\Users\\use\\Notebooks\\iNeuron\\PythonBasics\\.ipynb_checkpoints\\Assignment_4-checkpoint.ipynb to C:\\Users\\use\\Notebooks\\iNeuron\\dest folder\n",
      "Coping C:\\Users\\use\\Notebooks\\iNeuron\\PythonBasics\\.ipynb_checkpoints\\Assignment_5-checkpoint.ipynb to C:\\Users\\use\\Notebooks\\iNeuron\\dest folder\n",
      "Coping C:\\Users\\use\\Notebooks\\iNeuron\\PythonBasics\\.ipynb_checkpoints\\Assignment_6-checkpoint.ipynb to C:\\Users\\use\\Notebooks\\iNeuron\\dest folder\n",
      "Coping C:\\Users\\use\\Notebooks\\iNeuron\\PythonBasics\\.ipynb_checkpoints\\Assignment_7-checkpoint.ipynb to C:\\Users\\use\\Notebooks\\iNeuron\\dest folder\n",
      "Coping C:\\Users\\use\\Notebooks\\iNeuron\\PythonBasics\\.ipynb_checkpoints\\Assignment_8-checkpoint.ipynb to C:\\Users\\use\\Notebooks\\iNeuron\\dest folder\n",
      "Coping C:\\Users\\use\\Notebooks\\iNeuron\\PythonBasics\\.ipynb_checkpoints\\Assignment_9-checkpoint.ipynb to C:\\Users\\use\\Notebooks\\iNeuron\\dest folder\n",
      "Coping C:\\Users\\use\\Notebooks\\iNeuron\\PythonBasics\\new folder\\untitled.txt to C:\\Users\\use\\Notebooks\\iNeuron\\dest folder\n",
      "Coping C:\\Users\\use\\Notebooks\\iNeuron\\PythonBasics\\new folder\\untitled1.txt to C:\\Users\\use\\Notebooks\\iNeuron\\dest folder\n"
     ]
    }
   ],
   "source": [
    "import os,shutil\n",
    "\n",
    "source='C:\\\\Users\\\\use\\\\Notebooks\\\\iNeuron\\\\PythonBasics'\n",
    "destFolder='C:\\\\Users\\\\use\\\\Notebooks\\\\iNeuron\\\\dest folder'\n",
    "destFolder=os.path.abspath(destFolder)\n",
    "extensions = ['.pdf', '.txt', '.ipynb']\n",
    "print('Looking in', source, 'for files with extensions of', ', '.join(extensions))\n",
    "for foldername, subfolders, filenames in os.walk(source):\n",
    "    for filename in filenames:\n",
    "        name, extension = os.path.splitext(filename)\n",
    "        if extension in extensions:\n",
    "            fileAbsPath = foldername + os.path.sep + filename\n",
    "            print('Coping', fileAbsPath, 'to', destFolder)\n",
    "            shutil.copy(fileAbsPath, destFolder)"
   ]
  },
  {
   "cell_type": "code",
   "execution_count": null,
   "id": "84aa625f",
   "metadata": {},
   "outputs": [],
   "source": []
  }
 ],
 "metadata": {
  "kernelspec": {
   "display_name": "Python 3 (ipykernel)",
   "language": "python",
   "name": "python3"
  },
  "language_info": {
   "codemirror_mode": {
    "name": "ipython",
    "version": 3
   },
   "file_extension": ".py",
   "mimetype": "text/x-python",
   "name": "python",
   "nbconvert_exporter": "python",
   "pygments_lexer": "ipython3",
   "version": "3.9.12"
  }
 },
 "nbformat": 4,
 "nbformat_minor": 5
}
